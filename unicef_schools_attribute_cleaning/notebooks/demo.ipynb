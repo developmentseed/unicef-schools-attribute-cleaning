{
 "cells": [
  {
   "cell_type": "code",
   "execution_count": 9,
   "metadata": {},
   "outputs": [],
   "source": [
    "from unicef_schools_attribute_cleaning.models.School import School"
   ]
  },
  {
   "cell_type": "code",
   "execution_count": 10,
   "metadata": {},
   "outputs": [
    {
     "ename": "ValidationError",
     "evalue": "7 validation errors for School\ncountry_code\n  field required (type=value_error.missing)\nname\n  field required (type=value_error.missing)\nlon\n  field required (type=value_error.missing)\nlat\n  field required (type=value_error.missing)\nowner\n  field required (type=value_error.missing)\nis_private\n  field required (type=value_error.missing)\nprovider_is_private\n  field required (type=value_error.missing)",
     "output_type": "error",
     "traceback": [
      "\u001B[0;31m---------------------------------------------------------------------------\u001B[0m",
      "\u001B[0;31mValidationError\u001B[0m                           Traceback (most recent call last)",
      "\u001B[0;32m<ipython-input-10-a996a3909d52>\u001B[0m in \u001B[0;36m<module>\u001B[0;34m\u001B[0m\n\u001B[0;32m----> 1\u001B[0;31m \u001B[0mSchool\u001B[0m\u001B[0;34m(\u001B[0m\u001B[0;34m)\u001B[0m\u001B[0;34m\u001B[0m\u001B[0;34m\u001B[0m\u001B[0m\n\u001B[0m",
      "\u001B[0;32m~/repos/unicef-schools-attribute-cleaning/venv/lib/python3.8/site-packages/pydantic/main.cpython-38-darwin.so\u001B[0m in \u001B[0;36mpydantic.main.BaseModel.__init__\u001B[0;34m()\u001B[0m\n",
      "\u001B[0;31mValidationError\u001B[0m: 7 validation errors for School\ncountry_code\n  field required (type=value_error.missing)\nname\n  field required (type=value_error.missing)\nlon\n  field required (type=value_error.missing)\nlat\n  field required (type=value_error.missing)\nowner\n  field required (type=value_error.missing)\nis_private\n  field required (type=value_error.missing)\nprovider_is_private\n  field required (type=value_error.missing)"
     ]
    }
   ],
   "source": [
    "School()"
   ]
  },
  {
   "cell_type": "code",
   "execution_count": null,
   "metadata": {},
   "outputs": [],
   "source": []
  }
 ],
 "metadata": {
  "kernelspec": {
   "display_name": "Python 3",
   "language": "python",
   "name": "python3"
  },
  "language_info": {
   "codemirror_mode": {
    "name": "ipython",
    "version": 3
   },
   "file_extension": ".py",
   "mimetype": "text/x-python",
   "name": "python",
   "nbconvert_exporter": "python",
   "pygments_lexer": "ipython3",
   "version": "3.8.5"
  }
 },
 "nbformat": 4,
 "nbformat_minor": 4
}