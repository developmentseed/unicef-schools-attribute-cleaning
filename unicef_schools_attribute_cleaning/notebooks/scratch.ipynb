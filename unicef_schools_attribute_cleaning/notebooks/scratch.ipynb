{
 "cells": [
  {
   "cell_type": "code",
   "execution_count": 3,
   "metadata": {},
   "outputs": [
    {
     "name": "stderr",
     "output_type": "stream",
     "text": [
      "WARNING:root:renaming Name to name (known alias)\n",
      "WARNING:root:renaming Province to admin2 (known alias)\n",
      "WARNING:root:renaming latitude to lat (known alias)\n",
      "WARNING:root:renaming longitude to lon (known alias)\n",
      "WARNING:root:renaming connectiontype to type_connectivity (known alias)\n"
     ]
    },
    {
     "data": {
      "text/plain": [
       "0      -17.8264\n",
       "1      -17.7915\n",
       "2      -17.7881\n",
       "3      -17.8767\n",
       "4      -17.7917\n",
       "         ...   \n",
       "9620    (blank)\n",
       "9621    (blank)\n",
       "9622    (blank)\n",
       "9623    (blank)\n",
       "9624    (blank)\n",
       "Name: lat, Length: 9625, dtype: object"
      ]
     },
     "execution_count": 3,
     "metadata": {},
     "output_type": "execute_result"
    }
   ],
   "source": [
    "import logging\n",
    "from os import chdir\n",
    "\n",
    "import pandas as pd\n",
    "from pandas import Series\n",
    "\n",
    "from unicef_schools_attribute_cleaning.models.School import School\n",
    "from unicef_schools_attribute_cleaning.models.Connectivity import Connectivity\n",
    "\n",
    "from unicef_schools_attribute_cleaning.utils.standardize_column_names import standardize_column_names\n",
    "\n",
    "chdir('/Users/alex/repos/unicef-schools-attribute-cleaning')\n",
    "df = pd.read_excel('./data/UNICE_schools_raw_2020_Jun/Zimbabwe schools complete data.xlsx')\n",
    "\n",
    "# apply country code, provider to every row\n",
    "df['country_code'] = 'ZW'\n",
    "df['owner'] = 'UNICEF'\n",
    "df['is_private'] = True\n",
    "df['provider'] = 'unknown'\n",
    "df['provider_is_private'] = True\n",
    "\n",
    "df2 = standardize_column_names(df)\n",
    "df2['lat']\n",
    "# connectivity_values = df2['type_connectivity'].unique()\n",
    "# logging.warning(connectivity_values)\n",
    "\n",
    "# def series_to_school(row: Series) -> School:\n",
    "#     return School.parse_obj(row.to_dict())\n",
    "\n",
    "# df2.apply(func=series_to_school, axis=1)\n",
    "\n"
   ]
  },
  {
   "cell_type": "code",
   "execution_count": null,
   "metadata": {},
   "outputs": [],
   "source": []
  }
 ],
 "metadata": {
  "kernelspec": {
   "display_name": "Python 3",
   "language": "python",
   "name": "python3"
  },
  "language_info": {
   "codemirror_mode": {
    "name": "ipython",
    "version": 3
   },
   "file_extension": ".py",
   "mimetype": "text/x-python",
   "name": "python",
   "nbconvert_exporter": "python",
   "pygments_lexer": "ipython3",
   "version": "3.8.5"
  }
 },
 "nbformat": 4,
 "nbformat_minor": 4
}
